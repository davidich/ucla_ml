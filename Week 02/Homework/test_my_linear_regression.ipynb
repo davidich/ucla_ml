{
 "cells": [
  {
   "cell_type": "code",
   "execution_count": 1,
   "metadata": {},
   "outputs": [],
   "source": [
    "import numpy as np\n",
    "\n",
    "float_formatter = \"{:.4f}\".format\n",
    "float_formatter(1.234567E-3)\n",
    "np.set_printoptions(formatter={'float_kind':float_formatter})"
   ]
  },
  {
   "cell_type": "code",
   "execution_count": 2,
   "metadata": {},
   "outputs": [
    {
     "data": {
      "image/png": "[encoded data removed]",
      "text/plain": [
       "<Figure size 432x288 with 1 Axes>"
      ]
     },
     "metadata": {
      "needs_background": "light"
     },
     "output_type": "display_data"
    },
    {
     "name": "stdout",
     "output_type": "stream",
     "text": [
      "  lr MSE: 21.894831181729202\n",
      "mylr MSE: 21.894838860732705\n"
     ]
    }
   ],
   "source": [
    "from sklearn.datasets import load_boston\n",
    "from sklearn.linear_model import LinearRegression\n",
    "from sklearn.preprocessing import MinMaxScaler\n",
    "from linear_regression import MyLinearRegression\n",
    "from utils import mse\n",
    "\n",
    "X, y = load_boston(return_X_y=True)\n",
    "lr = LinearRegression()\n",
    "lr.fit(X, y)\n",
    "\n",
    "\n",
    "mylr = MyLinearRegression(scale_data=True, learning_rate=0.1, max_iterations=1000)\n",
    "mylr.fit(X, y, plot_cost=True)\n",
    "\n",
    "print(\"  lr MSE:\", mse(y, lr.predict(X)))\n",
    "print(\"mylr MSE:\", mse(y, mylr.predict(X)))"
   ]
  }
 ],
 "metadata": {
  "kernelspec": {
   "display_name": "Python 3",
   "language": "python",
   "name": "python3"
  },
  "language_info": {
   "codemirror_mode": {
    "name": "ipython",
    "version": 3
   },
   "file_extension": ".py",
   "mimetype": "text/x-python",
   "name": "python",
   "nbconvert_exporter": "python",
   "pygments_lexer": "ipython3",
   "version": "3.7.6"
  }
 },
 "nbformat": 4,
 "nbformat_minor": 4
}
