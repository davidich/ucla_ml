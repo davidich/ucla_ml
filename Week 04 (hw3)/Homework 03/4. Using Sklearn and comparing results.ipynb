{
 "cells": [
  {
   "cell_type": "markdown",
   "metadata": {},
   "source": [
    "# 4. Using Sklearn and comparing results"
   ]
  },
  {
   "cell_type": "code",
   "execution_count": 1,
   "metadata": {},
   "outputs": [],
   "source": [
    "from sklearn.datasets import *\n",
    "from sklearn.model_selection import train_test_split\n",
    "from sklearn.metrics import classification_report, accuracy_score, confusion_matrix\n",
    "\n",
    "min_samples_split = 10\n",
    "min_samples_leaf = 5\n",
    "\n",
    "data = load_wine()\n",
    "X = data.data\n",
    "y = data.target\n",
    "labels = data.feature_names\n",
    "\n",
    "X_train, X_test, y_train, y_test = train_test_split(X, y, test_size=0.33, random_state=42)\n",
    "\n",
    "def compare(pred1, pred2, pred_name_1=None, pred_name_2=None):\n",
    "    pred1.fit(X_train, y_train)\n",
    "    y_pred_1 = pred1.predict(X_test)\n",
    "    acc_score_1 = accuracy_score(y_test, y_pred_1)\n",
    "    \n",
    "    pred2.fit(X_train, y_train)\n",
    "    y_pred_2 = pred2.predict(X_test)\n",
    "    acc_score_2 = accuracy_score(y_test, y_pred_2)\n",
    "    \n",
    "    if pred_name_1 is None: pred_name_1 = pred1.__class__.__name__\n",
    "    if pred_name_2 is None: pred_name_2 = pred2.__class__.__name__\n",
    "        \n",
    "    print(F\"{pred_name_1}: {acc_score_1}\\nvs\\n{pred_name_2}: {acc_score_2}\")"
   ]
  },
  {
   "cell_type": "markdown",
   "metadata": {},
   "source": [
    "### Decision Tree"
   ]
  },
  {
   "cell_type": "code",
   "execution_count": 2,
   "metadata": {},
   "outputs": [
    {
     "name": "stdout",
     "output_type": "stream",
     "text": [
      "My DT : 0.9491525423728814\n",
      "vs\n",
      "SKL DT: 0.9491525423728814\n"
     ]
    }
   ],
   "source": [
    "from decision_tree import DecisionTree as MyDecisionTree\n",
    "from sklearn.tree import DecisionTreeClassifier\n",
    "\n",
    "mydt = MyDecisionTree(min_samples_split, min_samples_leaf, verbose=False)\n",
    "dt = DecisionTreeClassifier(min_samples_split=min_samples_split, min_samples_leaf=min_samples_leaf)\n",
    "compare(mydt, dt, \"My DT \", \"SKL DT\")"
   ]
  },
  {
   "cell_type": "markdown",
   "metadata": {},
   "source": [
    "### Random Forest"
   ]
  },
  {
   "cell_type": "code",
   "execution_count": 4,
   "metadata": {},
   "outputs": [
    {
     "name": "stdout",
     "output_type": "stream",
     "text": [
      "My RF : 0.9661016949152542\n",
      "vs\n",
      "SKL RF: 0.9661016949152542\n"
     ]
    }
   ],
   "source": [
    "from random_forest import RandomForest as MyRandomForest\n",
    "from sklearn.ensemble import RandomForestClassifier\n",
    "\n",
    "n_est = 200\n",
    "myrf = MyRandomForest(min_samples_split, min_samples_leaf, n_est)\n",
    "sklrf = RandomForestClassifier(min_samples_split=min_samples_split, min_samples_leaf=min_samples_leaf, n_estimators=n_est)\n",
    "compare(myrf, sklrf, \"My RF \", \"SKL RF\")"
   ]
  },
  {
   "cell_type": "markdown",
   "metadata": {},
   "source": [
    "### Play around with the parameters"
   ]
  },
  {
   "cell_type": "markdown",
   "metadata": {},
   "source": [
    "#### Desision Tree"
   ]
  },
  {
   "cell_type": "code",
   "execution_count": 29,
   "metadata": {},
   "outputs": [
    {
     "name": "stdout",
     "output_type": "stream",
     "text": [
      "Fitting 3 folds for each of 20736 candidates, totalling 62208 fits\n"
     ]
    },
    {
     "name": "stderr",
     "output_type": "stream",
     "text": [
      "[Parallel(n_jobs=-1)]: Using backend LokyBackend with 8 concurrent workers.\n",
      "[Parallel(n_jobs=-1)]: Done  56 tasks      | elapsed:    0.1s\n",
      "[Parallel(n_jobs=-1)]: Done 6640 tasks      | elapsed:    2.9s\n",
      "[Parallel(n_jobs=-1)]: Done 22640 tasks      | elapsed:    8.8s\n",
      "[Parallel(n_jobs=-1)]: Done 45040 tasks      | elapsed:   17.2s\n",
      "[Parallel(n_jobs=-1)]: Done 62208 out of 62208 | elapsed:   23.4s finished\n"
     ]
    },
    {
     "data": {
      "text/plain": [
       "DecisionTreeClassifier(criterion='entropy', max_leaf_nodes=5,\n",
       "                       min_samples_leaf=2, random_state=42)"
      ]
     },
     "execution_count": 29,
     "metadata": {},
     "output_type": "execute_result"
    }
   ],
   "source": [
    "from sklearn.model_selection import GridSearchCV\n",
    "\n",
    "params = {\n",
    "    'criterion': ['gini', 'entropy'],\n",
    "    'splitter': ['best', 'random'],\n",
    "    'max_features': ['auto', 'sqrt', 'log2', None],\n",
    "    'max_leaf_nodes': list(range(2, 10)), \n",
    "    'min_samples_split': list(range(2, 20)),\n",
    "    'min_samples_leaf': list(range(1, 10))\n",
    "}\n",
    "grid_search_cv = GridSearchCV(DecisionTreeClassifier(random_state=42), params, n_jobs=-1, verbose=1, cv=3)\n",
    "\n",
    "grid_search_cv.fit(X_train, y_train);\n",
    "grid_search_cv.best_estimator_"
   ]
  },
  {
   "cell_type": "code",
   "execution_count": 30,
   "metadata": {},
   "outputs": [
    {
     "data": {
      "text/plain": [
       "0.9322033898305084"
      ]
     },
     "execution_count": 30,
     "metadata": {},
     "output_type": "execute_result"
    }
   ],
   "source": [
    "y_pred_best = grid_search_cv.best_estimator_.predict(X_test)\n",
    "acc_score_best = accuracy_score(y_test, y_pred_best)\n",
    "acc_score_best"
   ]
  },
  {
   "cell_type": "markdown",
   "metadata": {},
   "source": [
    "#### Random Forest"
   ]
  },
  {
   "cell_type": "code",
   "execution_count": 34,
   "metadata": {},
   "outputs": [
    {
     "name": "stdout",
     "output_type": "stream",
     "text": [
      "Fitting 3 folds for each of 6480 candidates, totalling 19440 fits\n"
     ]
    },
    {
     "name": "stderr",
     "output_type": "stream",
     "text": [
      "[Parallel(n_jobs=-1)]: Using backend LokyBackend with 8 concurrent workers.\n",
      "[Parallel(n_jobs=-1)]: Done  56 tasks      | elapsed:    0.6s\n",
      "[Parallel(n_jobs=-1)]: Done 656 tasks      | elapsed:    5.5s\n",
      "[Parallel(n_jobs=-1)]: Done 1656 tasks      | elapsed:   15.0s\n",
      "[Parallel(n_jobs=-1)]: Done 3056 tasks      | elapsed:   28.4s\n",
      "[Parallel(n_jobs=-1)]: Done 4856 tasks      | elapsed:   46.0s\n",
      "[Parallel(n_jobs=-1)]: Done 7056 tasks      | elapsed:  1.1min\n",
      "[Parallel(n_jobs=-1)]: Done 9656 tasks      | elapsed:  1.6min\n",
      "[Parallel(n_jobs=-1)]: Done 12656 tasks      | elapsed:  2.1min\n",
      "[Parallel(n_jobs=-1)]: Done 16056 tasks      | elapsed:  2.6min\n",
      "[Parallel(n_jobs=-1)]: Done 19440 out of 19440 | elapsed:  3.2min finished\n"
     ]
    },
    {
     "data": {
      "text/plain": [
       "RandomForestClassifier(min_samples_split=6, n_estimators=17, random_state=42)"
      ]
     },
     "execution_count": 34,
     "metadata": {},
     "output_type": "execute_result"
    }
   ],
   "source": [
    "params = {\n",
    "    'n_estimators': list(range(10, 50)),\n",
    "    'min_samples_split': list(range(2, 20)),\n",
    "    'min_samples_leaf': list(range(1, 10))\n",
    "}\n",
    "grid_search_cv = GridSearchCV(RandomForestClassifier(random_state=42), params, n_jobs=-1, verbose=1, cv=3)\n",
    "\n",
    "grid_search_cv.fit(X_train, y_train);\n",
    "grid_search_cv.best_estimator_"
   ]
  },
  {
   "cell_type": "code",
   "execution_count": 36,
   "metadata": {},
   "outputs": [
    {
     "data": {
      "text/plain": [
       "1.0"
      ]
     },
     "execution_count": 36,
     "metadata": {},
     "output_type": "execute_result"
    }
   ],
   "source": [
    "y_pred_best = grid_search_cv.best_estimator_.predict(X_test)\n",
    "acc_score_best = accuracy_score(y_test, y_pred_best)\n",
    "acc_score_best"
   ]
  },
  {
   "cell_type": "code",
   "execution_count": 40,
   "metadata": {},
   "outputs": [
    {
     "data": {
      "text/plain": [
       "'flavanoids'"
      ]
     },
     "execution_count": 40,
     "metadata": {},
     "output_type": "execute_result"
    }
   ],
   "source": [
    "import numpy as np\n",
    "feature_importances = grid_search_cv.best_estimator_.feature_importances_\n",
    "index = np.argmax(feature_importances)\n",
    "labels[index]"
   ]
  },
  {
   "cell_type": "code",
   "execution_count": null,
   "metadata": {},
   "outputs": [],
   "source": []
  }
 ],
 "metadata": {
  "kernelspec": {
   "display_name": "Python 3",
   "language": "python",
   "name": "python3"
  },
  "language_info": {
   "codemirror_mode": {
    "name": "ipython",
    "version": 3
   },
   "file_extension": ".py",
   "mimetype": "text/x-python",
   "name": "python",
   "nbconvert_exporter": "python",
   "pygments_lexer": "ipython3",
   "version": "3.7.6"
  }
 },
 "nbformat": 4,
 "nbformat_minor": 4
}
