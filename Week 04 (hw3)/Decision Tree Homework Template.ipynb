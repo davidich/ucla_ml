{
 "cells": [
  {
   "cell_type": "code",
   "execution_count": 1,
   "metadata": {
    "ExecuteTime": {
     "end_time": "2020-07-17T03:04:35.089257Z",
     "start_time": "2020-07-17T03:04:34.152538Z"
    }
   },
   "outputs": [],
   "source": [
    "from sklearn.datasets import *\n",
    "# load dataset\n",
    "data = load_wine()\n",
    "# feature matrix\n",
    "X = data.data\n",
    "# target vector\n",
    "y = data.target\n",
    "# class labels\n",
    "labels = data.feature_names"
   ]
  },
  {
   "cell_type": "code",
   "execution_count": 2,
   "metadata": {
    "ExecuteTime": {
     "end_time": "2020-07-17T03:04:35.112612Z",
     "start_time": "2020-07-17T03:04:35.091304Z"
    }
   },
   "outputs": [],
   "source": [
    "from collections import deque, Counter\n",
    "import numpy as np\n",
    "\n",
    "\n",
    "class DecisionTreeNode:\n",
    "        \n",
    "    def __init__(self, data, target, minimal_cost, split_index = self._find_best_split(ordered_target)=50, min_leaf=1):\n",
    "        self.left = None\n",
    "        self.right = None\n",
    "        self.data = data\n",
    "        self.target = target\n",
    "        self.split_feature = None\n",
    "        self.split_value = None\n",
    "        self.min_split = min_split\n",
    "        self.min_leaf = min_leaf\n",
    "        self.is_leaf = False\n",
    "        self.node_class = None\n",
    "    \n",
    "    def _compute_gini(self, target):\n",
    "        # TODO: You will complete the function to compute the gini index like shown in class.\n",
    "        # Target is a list with all the labels for the variables in this node.\n",
    "        return\n",
    "    \n",
    "    def _compute_cost(self, m_left, m_right, m, gini_score_left, gini_score_right):\n",
    "        # TODO: You will complete the function to comptue the cost, as shown in class \n",
    "        return\n",
    "    \n",
    "    def compute_node_gini(self):\n",
    "        return self._compute_gini(self.target)\n",
    "    \n",
    "    def print_info(self):\n",
    "        print(f\"\"\"Gini: {self.compute_node_gini()} Distribution: {Counter(self.target)} \n",
    "              Split: {self.split_feature} Value: {self.split_value} Leaf: {self.is_leaf}\"\"\")\n",
    "    \n",
    "    def split(self):\n",
    "        \n",
    "        self.node_class = Counter(self.target).most_common()[0][0] # Count each class and gets the most common.\n",
    "\n",
    "        if self.min_split > len(self.data): # If we can't split anymore, we mark the node as leaf and stop.\n",
    "            self.is_leaf = True\n",
    "            return False\n",
    "        \n",
    "        final_cost = 10000000000 # initialize the cost with a high number\n",
    "        final_left_instances = None\n",
    "        final_right_instances = None\n",
    "        \n",
    "        for f in range(self.data.shape[1]):\n",
    "            #order features and get class for each instance\n",
    "            feature_order = np.argsort(self.data[:, f])\n",
    "            sorted_data = [self.data[i] for i in feature_order]\n",
    "            curr_features = [self.target[i] for i in feature_order] # ordered features\n",
    "            # finds split point\n",
    "            for j in range(self.min_leaf, len(curr_features) - self.min_leaf): # this could be optimized with binary search\n",
    "                left = curr_features[:j]\n",
    "                right = curr_features[j:] # Split the labels based in the order of features\n",
    "                \n",
    "                cost = self._compute_cost(len(left), len(right), len(curr_features), self._compute_gini(left), self._compute_gini(right))\n",
    "                \n",
    "               \n",
    "\n",
    "                if final_cost >= cost:\n",
    "                    self.split_feature = f # Saves the name of the feature to split\n",
    "                    self.split_value = sorted_data[j][f] # Saves the value fo the threshold\n",
    "                    final_cost = cost\n",
    "                    final_left_instances = feature_order[:j] # saves the left split\n",
    "                    final_right_instances = feature_order[j:] # saves the right split\n",
    "        \n",
    "        if  final_left_instances is None or final_right_instances is None or final_cost == 0:\n",
    "            self.is_leaf = True\n",
    "            return False\n",
    "\n",
    "        self.left = DecisionTreeNode(self.data[final_left_instances], self.target[final_left_instances], self.min_split, self.min_leaf)\n",
    "        self.right = DecisionTreeNode(self.data[final_right_instances], self.target[final_right_instances],  self.min_split, self.min_leaf)\n",
    "        \n",
    "        return True\n",
    "\n",
    "class DecisionTree:\n",
    "    \n",
    "    def __init__(self, min_split=50, min_leaf=10):\n",
    "        self.min_split = min_split\n",
    "        self.min_leaf = min_leaf\n",
    "        self.head = None\n",
    "        \n",
    "    def fit(self, X, y, verbose=True):\n",
    "        self.head = DecisionTreeNode(X, y, self.min_split, self.min_leaf)\n",
    "        queue = deque()\n",
    "        queue.append(self.head)\n",
    "        splits = 0\n",
    "        while len(queue): # Transverses the tree, level by level, using the BFS algorithm\n",
    "            n = queue.popleft()\n",
    "            if n.split():\n",
    "                queue.append(n.left)\n",
    "                queue.append(n.right)\n",
    "                splits += 1\n",
    "            if verbose: n.print_info()\n",
    "        if verbose: print(f\"Performed {splits} splits.\")\n",
    "            \n",
    "            \n",
    "    def predict(self, x, verbose=False):\n",
    "        queue = deque()\n",
    "        queue.append(self.head)\n",
    "        \n",
    "        while len(queue):\n",
    "            n = queue.popleft()\n",
    "            if n.is_leaf: # if the node is a leaf, we make a prediction\n",
    "                return n.node_class\n",
    "            if x[n.split_feature] > n.split_value: # if larger than the threshold, go to the right\n",
    "                if verbose: print(f\"Went right. {x[n.split_feature]} larger than the {n.split_value} threshold.\")\n",
    "                queue.append(n.right)\n",
    "            else: # otherwise, we go to the left\n",
    "                if verbose: print(f\"Went left. {x[n.split_feature]} larger than the {n.split_value} threshold.\")\n",
    "\n",
    "                queue.append(n.left)\n",
    "            if verbose: n.print_info()\n",
    "                "
   ]
  },
  {
   "cell_type": "code",
   "execution_count": 3,
   "metadata": {
    "ExecuteTime": {
     "end_time": "2020-07-17T03:04:35.526027Z",
     "start_time": "2020-07-17T03:04:35.522467Z"
    }
   },
   "outputs": [],
   "source": [
    "dt = DecisionTree(20, 10)"
   ]
  },
  {
   "cell_type": "code",
   "execution_count": 4,
   "metadata": {
    "ExecuteTime": {
     "end_time": "2020-07-17T03:04:35.883898Z",
     "start_time": "2020-07-17T03:04:35.837221Z"
    }
   },
   "outputs": [],
   "source": [
    "from sklearn.model_selection import train_test_split"
   ]
  },
  {
   "cell_type": "code",
   "execution_count": 5,
   "metadata": {
    "ExecuteTime": {
     "end_time": "2020-07-17T03:04:36.048779Z",
     "start_time": "2020-07-17T03:04:36.038786Z"
    }
   },
   "outputs": [],
   "source": [
    "X_train, X_test, y_train, y_test = train_test_split(\n",
    "     X, y, test_size=0.33, random_state=42)"
   ]
  },
  {
   "cell_type": "code",
   "execution_count": 6,
   "metadata": {
    "ExecuteTime": {
     "end_time": "2020-07-17T03:04:36.714614Z",
     "start_time": "2020-07-17T03:04:36.513660Z"
    }
   },
   "outputs": [
    {
     "ename": "TypeError",
     "evalue": "'>=' not supported between instances of 'int' and 'NoneType'",
     "output_type": "error",
     "traceback": [
      "\u001b[0;31m---------------------------------------------------------------------------\u001b[0m",
      "\u001b[0;31mTypeError\u001b[0m                                 Traceback (most recent call last)",
      "\u001b[0;32m<ipython-input-6-02a5e219bbec>\u001b[0m in \u001b[0;36m<module>\u001b[0;34m\u001b[0m\n\u001b[0;32m----> 1\u001b[0;31m \u001b[0mdt\u001b[0m\u001b[0;34m.\u001b[0m\u001b[0mfit\u001b[0m\u001b[0;34m(\u001b[0m\u001b[0mX_train\u001b[0m\u001b[0;34m,\u001b[0m \u001b[0my_train\u001b[0m\u001b[0;34m,\u001b[0m \u001b[0mverbose\u001b[0m\u001b[0;34m=\u001b[0m\u001b[0;32mTrue\u001b[0m\u001b[0;34m)\u001b[0m\u001b[0;34m\u001b[0m\u001b[0;34m\u001b[0m\u001b[0m\n\u001b[0m",
      "\u001b[0;32m<ipython-input-2-995556fccd4f>\u001b[0m in \u001b[0;36mfit\u001b[0;34m(self, X, y, verbose)\u001b[0m\n\u001b[1;32m     89\u001b[0m         \u001b[0;32mwhile\u001b[0m \u001b[0mlen\u001b[0m\u001b[0;34m(\u001b[0m\u001b[0mqueue\u001b[0m\u001b[0;34m)\u001b[0m\u001b[0;34m:\u001b[0m \u001b[0;31m# Transverses the tree, level by level, using the BFS algorithm\u001b[0m\u001b[0;34m\u001b[0m\u001b[0;34m\u001b[0m\u001b[0m\n\u001b[1;32m     90\u001b[0m             \u001b[0mn\u001b[0m \u001b[0;34m=\u001b[0m \u001b[0mqueue\u001b[0m\u001b[0;34m.\u001b[0m\u001b[0mpopleft\u001b[0m\u001b[0;34m(\u001b[0m\u001b[0;34m)\u001b[0m\u001b[0;34m\u001b[0m\u001b[0;34m\u001b[0m\u001b[0m\n\u001b[0;32m---> 91\u001b[0;31m             \u001b[0;32mif\u001b[0m \u001b[0mn\u001b[0m\u001b[0;34m.\u001b[0m\u001b[0msplit\u001b[0m\u001b[0;34m(\u001b[0m\u001b[0;34m)\u001b[0m\u001b[0;34m:\u001b[0m\u001b[0;34m\u001b[0m\u001b[0;34m\u001b[0m\u001b[0m\n\u001b[0m\u001b[1;32m     92\u001b[0m                 \u001b[0mqueue\u001b[0m\u001b[0;34m.\u001b[0m\u001b[0mappend\u001b[0m\u001b[0;34m(\u001b[0m\u001b[0mn\u001b[0m\u001b[0;34m.\u001b[0m\u001b[0mleft\u001b[0m\u001b[0;34m)\u001b[0m\u001b[0;34m\u001b[0m\u001b[0;34m\u001b[0m\u001b[0m\n\u001b[1;32m     93\u001b[0m                 \u001b[0mqueue\u001b[0m\u001b[0;34m.\u001b[0m\u001b[0mappend\u001b[0m\u001b[0;34m(\u001b[0m\u001b[0mn\u001b[0m\u001b[0;34m.\u001b[0m\u001b[0mright\u001b[0m\u001b[0;34m)\u001b[0m\u001b[0;34m\u001b[0m\u001b[0;34m\u001b[0m\u001b[0m\n",
      "\u001b[0;32m<ipython-input-2-995556fccd4f>\u001b[0m in \u001b[0;36msplit\u001b[0;34m(self)\u001b[0m\n\u001b[1;32m     59\u001b[0m \u001b[0;34m\u001b[0m\u001b[0m\n\u001b[1;32m     60\u001b[0m \u001b[0;34m\u001b[0m\u001b[0m\n\u001b[0;32m---> 61\u001b[0;31m                 \u001b[0;32mif\u001b[0m \u001b[0mfinal_cost\u001b[0m \u001b[0;34m>=\u001b[0m \u001b[0mcost\u001b[0m\u001b[0;34m:\u001b[0m\u001b[0;34m\u001b[0m\u001b[0;34m\u001b[0m\u001b[0m\n\u001b[0m\u001b[1;32m     62\u001b[0m                     \u001b[0mself\u001b[0m\u001b[0;34m.\u001b[0m\u001b[0msplit_feature\u001b[0m \u001b[0;34m=\u001b[0m \u001b[0mf\u001b[0m \u001b[0;31m# Saves the name of the feature to split\u001b[0m\u001b[0;34m\u001b[0m\u001b[0;34m\u001b[0m\u001b[0m\n\u001b[1;32m     63\u001b[0m                     \u001b[0mself\u001b[0m\u001b[0;34m.\u001b[0m\u001b[0msplit_value\u001b[0m \u001b[0;34m=\u001b[0m \u001b[0msorted_data\u001b[0m\u001b[0;34m[\u001b[0m\u001b[0mj\u001b[0m\u001b[0;34m]\u001b[0m\u001b[0;34m[\u001b[0m\u001b[0mf\u001b[0m\u001b[0;34m]\u001b[0m \u001b[0;31m# Saves the value fo the threshold\u001b[0m\u001b[0;34m\u001b[0m\u001b[0;34m\u001b[0m\u001b[0m\n",
      "\u001b[0;31mTypeError\u001b[0m: '>=' not supported between instances of 'int' and 'NoneType'"
     ]
    }
   ],
   "source": [
    "dt.fit(X_train, y_train, verbose=True)"
   ]
  },
  {
   "cell_type": "code",
   "execution_count": null,
   "metadata": {
    "ExecuteTime": {
     "end_time": "2020-07-17T00:16:36.113478Z",
     "start_time": "2020-07-17T00:16:36.103793Z"
    }
   },
   "outputs": [],
   "source": [
    "from sklearn.metrics import classification_report\n",
    "y_pred = [dt.predict(x) for x in X_test]\n",
    "\n",
    "print(classification_report(y_test, y_pred))"
   ]
  },
  {
   "cell_type": "code",
   "execution_count": null,
   "metadata": {
    "ExecuteTime": {
     "end_time": "2020-07-17T00:16:36.626070Z",
     "start_time": "2020-07-17T00:16:36.621020Z"
    }
   },
   "outputs": [],
   "source": [
    "dt.predict(X_train[1], True)"
   ]
  }
 ],
 "metadata": {
  "kernelspec": {
   "display_name": "Python 3",
   "language": "python",
   "name": "python3"
  },
  "language_info": {
   "codemirror_mode": {
    "name": "ipython",
    "version": 3
   },
   "file_extension": ".py",
   "mimetype": "text/x-python",
   "name": "python",
   "nbconvert_exporter": "python",
   "pygments_lexer": "ipython3",
   "version": "3.7.6"
  }
 },
 "nbformat": 4,
 "nbformat_minor": 4
}
