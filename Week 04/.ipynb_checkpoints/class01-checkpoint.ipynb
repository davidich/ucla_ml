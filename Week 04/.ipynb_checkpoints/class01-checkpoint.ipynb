{
 "cells": [
  {
   "cell_type": "code",
   "execution_count": 39,
   "metadata": {},
   "outputs": [
    {
     "data": {
      "text/plain": [
       "'39%'"
      ]
     },
     "execution_count": 39,
     "metadata": {},
     "output_type": "execute_result"
    }
   ],
   "source": [
    "import pandas as pd\n",
    "\n",
    "df = pd.DataFrame()\n",
    "#                 1.   2.   3.   4.   5.   6.   7.   8.   9.   0    1.   2.   3.   4.  \n",
    "df[\"outlook\"] = [\"s\", \"s\", \"o\", \"r\", \"r\", \"r\", \"o\", \"s\", \"s\", \"r\", \"s\", \"o\", \"o\", \"r\"]\n",
    "df[\"temp\"]    = [\"h\", \"h\", \"h\", \"m\", \"c\", \"c\", \"c\", \"m\", \"c\", \"m\", \"m\", \"m\", \"h\", \"m\"]\n",
    "df[\"decision\"]= [\"n\", \"n\", \"y\", \"y\", \"y\", \"n\", \"y\", \"n\", \"y\", \"y\", \"y\", \"y\", \"y\", \"n\"]\n",
    "\n",
    "df[\"outlook\"].unique()\n",
    "\n",
    "# is sunny?\n",
    "sunny_days = df[\"decision\"][df[\"outlook\"]==\"s\"]\n",
    "sunny_no = (sunny_days == \"n\").sum()\n",
    "sunny_yes = (sunny_days == \"y\").sum()\n",
    "sunny_count = sunny_days.count()\n",
    "\n",
    "not_sunny_days = df[\"decision\"][df[\"outlook\"]!=\"s\"]\n",
    "not_sunny_no = (not_sunny_days == \"n\").sum()\n",
    "not_sunny_yes = (not_sunny_days == \"y\").sum()\n",
    "not_sunny_count = not_sunny_days.count()\n",
    "\n",
    "G_left = 1 - (sunny_yes/sunny_count)**2 - (sunny_no/sunny_count)**2\n",
    "G_right = 1 - (not_sunny_yes/not_sunny_count)**2 - (not_sunny_no/not_sunny_count)**2\n",
    "outlook_count = df[\"outlook\"].count()\n",
    "J_sunny = sunny_count/outlook_count * G_left + not_sunny_count/outlook_count * G_right\n",
    "\"{:.0%}\".format(J_sunny)"
   ]
  },
  {
   "cell_type": "code",
   "execution_count": null,
   "metadata": {},
   "outputs": [],
   "source": []
  },
  {
   "cell_type": "code",
   "execution_count": null,
   "metadata": {},
   "outputs": [],
   "source": []
  }
 ],
 "metadata": {
  "kernelspec": {
   "display_name": "Python 3",
   "language": "python",
   "name": "python3"
  },
  "language_info": {
   "codemirror_mode": {
    "name": "ipython",
    "version": 3
   },
   "file_extension": ".py",
   "mimetype": "text/x-python",
   "name": "python",
   "nbconvert_exporter": "python",
   "pygments_lexer": "ipython3",
   "version": "3.7.6"
  }
 },
 "nbformat": 4,
 "nbformat_minor": 4
}
