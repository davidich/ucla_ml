{
 "cells": [
  {
   "cell_type": "markdown",
   "metadata": {},
   "source": [
    "### Load Data"
   ]
  },
  {
   "cell_type": "code",
   "execution_count": 3,
   "metadata": {},
   "outputs": [],
   "source": [
    "from sklearn.datasets import *\n",
    "from sklearn.model_selection import train_test_split\n",
    "from sklearn.metrics import classification_report, accuracy_score, confusion_matrix\n",
    "\n",
    "min_samples_split = 10\n",
    "min_samples_leaf = 5\n",
    "\n",
    "data = load_wine()\n",
    "X = data.data\n",
    "y = data.target\n",
    "labels = data.feature_names\n",
    "\n",
    "X_train, X_test, y_train, y_test = train_test_split(X, y, test_size=0.33, random_state=42)\n",
    "\n",
    "def evaluate_predictor(predictor):\n",
    "    predictor.fit(X_train, y_train)\n",
    "    y_pred = predictor.predict(X_test)\n",
    "\n",
    "    method = getattr(predictor, \"accuracy_score\", None)\n",
    "    has_print_accuracy = callable(method)\n",
    "\n",
    "    print(\"-\" * 60)\n",
    "    print(F\"'{predictor.__class__.__name__}' REPORT:\")\n",
    "    print(\"-\" * 60)\n",
    "    if has_print_accuracy:\n",
    "        method(X_test, y_test)\n",
    "    else:\n",
    "        print(\"Accuracy score: \", accuracy_score(y_test, y_pred))\n",
    "    print(\"Confusion matrix:\\n\", confusion_matrix(y_test, y_pred))\n",
    "    print(classification_report(y_test, y_pred))"
   ]
  },
  {
   "cell_type": "markdown",
   "metadata": {},
   "source": [
    "### Evaluate Decision Tree"
   ]
  },
  {
   "cell_type": "code",
   "execution_count": 7,
   "metadata": {},
   "outputs": [
    {
     "name": "stdout",
     "output_type": "stream",
     "text": [
      "Gini: 0.6596991737871619 Distribution: Counter({1: 47, 0: 39, 2: 33}) \n",
      "              Split: 9 Value: 3.8 Leaf: False\n",
      "Gini: 0.04759071980963725 Distribution: Counter({1: 40, 0: 1}) \n",
      "              Split: 12 Value: 830.0 Leaf: False\n",
      "Gini: 0.5756081525312294 Distribution: Counter({0: 38, 2: 33, 1: 7}) \n",
      "              Split: 6 Value: 1.41 Leaf: False\n",
      "Gini: 0.0 Distribution: Counter({1: 36}) \n",
      "              Split: 12 Value: 625.0 Leaf: True\n",
      "Gini: 0.31999999999999984 Distribution: Counter({1: 4, 0: 1}) \n",
      "              Split: None Value: None Leaf: True\n",
      "Gini: 0.0 Distribution: Counter({2: 33}) \n",
      "              Split: 12 Value: 750.0 Leaf: True\n",
      "Gini: 0.2627160493827161 Distribution: Counter({0: 38, 1: 7}) \n",
      "              Split: 12 Value: 735.0 Leaf: False\n",
      "Gini: 0.21875 Distribution: Counter({1: 7, 0: 1}) \n",
      "              Split: None Value: None Leaf: True\n",
      "Gini: 0.0 Distribution: Counter({0: 37}) \n",
      "              Split: 12 Value: 1375.0 Leaf: True\n",
      "Performed 4 splits.\n",
      "------------------------------------------------------------\n",
      "'DecisionTree' REPORT:\n",
      "------------------------------------------------------------\n",
      "Accuracy score:  0.9491525423728814\n",
      "Confusion matrix:\n",
      " [[18  2  0]\n",
      " [ 0 24  0]\n",
      " [ 0  1 14]]\n",
      "              precision    recall  f1-score   support\n",
      "\n",
      "           0       1.00      0.90      0.95        20\n",
      "           1       0.89      1.00      0.94        24\n",
      "           2       1.00      0.93      0.97        15\n",
      "\n",
      "    accuracy                           0.95        59\n",
      "   macro avg       0.96      0.94      0.95        59\n",
      "weighted avg       0.95      0.95      0.95        59\n",
      "\n"
     ]
    }
   ],
   "source": [
    "from decision_tree import DecisionTree\n",
    "dt = DecisionTree(min_samples_split, min_samples_leaf, verbose=True)\n",
    "evaluate_predictor(dt)"
   ]
  },
  {
   "cell_type": "markdown",
   "metadata": {},
   "source": [
    "### Evaluate Random Forest"
   ]
  },
  {
   "cell_type": "code",
   "execution_count": 8,
   "metadata": {},
   "outputs": [
    {
     "name": "stdout",
     "output_type": "stream",
     "text": [
      "------------------------------------------------------------\n",
      "'RandomForest' REPORT:\n",
      "------------------------------------------------------------\n",
      "Accuracy score:  0.9661016949152542\n",
      "Confusion matrix:\n",
      " [[18  2  0]\n",
      " [ 0 24  0]\n",
      " [ 0  0 15]]\n",
      "              precision    recall  f1-score   support\n",
      "\n",
      "           0       1.00      0.90      0.95        20\n",
      "           1       0.92      1.00      0.96        24\n",
      "           2       1.00      1.00      1.00        15\n",
      "\n",
      "    accuracy                           0.97        59\n",
      "   macro avg       0.97      0.97      0.97        59\n",
      "weighted avg       0.97      0.97      0.97        59\n",
      "\n"
     ]
    }
   ],
   "source": [
    "from random_forest import RandomForest\n",
    "\n",
    "rf = RandomForest(min_samples_split, min_samples_leaf, 100)\n",
    "evaluate_predictor(rf)"
   ]
  },
  {
   "cell_type": "markdown",
   "metadata": {},
   "source": [
    "### Evaluate Stacking Ensemble"
   ]
  },
  {
   "cell_type": "code",
   "execution_count": 9,
   "metadata": {},
   "outputs": [
    {
     "name": "stdout",
     "output_type": "stream",
     "text": [
      "------------------------------------------------------------\n",
      "'StackedClassifier' REPORT:\n",
      "------------------------------------------------------------\n",
      "Accuracy scores:\n",
      " - Blender 'MyKNN': 0.9830508474576272\n",
      " - Predictor 1 'MyLogisticRegression': 0.9661016949152542\n",
      " - Predictor 2 'RandomForest': 0.8983050847457628\n",
      " - Predictor 3 'SVC': 0.711864406779661\n",
      "Confusion matrix:\n",
      " [[20  0  0]\n",
      " [ 0 23  1]\n",
      " [ 0  0 15]]\n",
      "              precision    recall  f1-score   support\n",
      "\n",
      "           0       1.00      1.00      1.00        20\n",
      "           1       1.00      0.96      0.98        24\n",
      "           2       0.94      1.00      0.97        15\n",
      "\n",
      "    accuracy                           0.98        59\n",
      "   macro avg       0.98      0.99      0.98        59\n",
      "weighted avg       0.98      0.98      0.98        59\n",
      "\n"
     ]
    }
   ],
   "source": [
    "from stacked_classifier import StackedClassifier\n",
    "\n",
    "sc = StackedClassifier(train_size=0.6)\n",
    "evaluate_predictor(sc)"
   ]
  }
 ],
 "metadata": {
  "kernelspec": {
   "display_name": "Python 3",
   "language": "python",
   "name": "python3"
  },
  "language_info": {
   "codemirror_mode": {
    "name": "ipython",
    "version": 3
   },
   "file_extension": ".py",
   "mimetype": "text/x-python",
   "name": "python",
   "nbconvert_exporter": "python",
   "pygments_lexer": "ipython3",
   "version": "3.7.6"
  }
 },
 "nbformat": 4,
 "nbformat_minor": 4
}
