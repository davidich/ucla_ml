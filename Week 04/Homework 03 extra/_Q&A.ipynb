{
 "cells": [
  {
   "cell_type": "markdown",
   "metadata": {},
   "source": [
    "# 3 Wine Classification\n",
    "\n",
    "Using the implementation of the Decision Tree algorithm that was provided and the ensemble techniques you implemented, answer the following questions"
   ]
  },
  {
   "cell_type": "markdown",
   "metadata": {},
   "source": [
    "### Q: What is the best result you can get?  \n",
    "A: The best result gives StackedClassifier (accuracy score: 0.98)\n",
    "\n",
    "### Q: How many splits did your Decision Tree algorithm need?  \n",
    "A: 4 splits\n",
    "\n",
    "### Q:Which one gets better results, your ensemble or your decision tree?\n",
    "A: My ensemle is better.  \n",
    "\n",
    "Accuracy scores:\n",
    "- Stacked classifier: 0.983\n",
    "- Random forest: 0.966"
   ]
  },
  {
   "cell_type": "markdown",
   "metadata": {},
   "source": [
    "# 4. Using Sklearn and comparing results  \n",
    "Now, select the Decision Tree Classifier and Random Forest models from sklearn. \n",
    "Train them using the same training set and make predictions using the same test set that you have used for your own models."
   ]
  },
  {
   "cell_type": "markdown",
   "metadata": {},
   "source": [
    "### Q: Which one gets better results?\n",
    "A: They have identical results\n",
    "\n",
    "### Q: Which one is faster during training? And during inference time?  \n",
    "A: SKLEARN's implementation is faster during training and they are about the same during inference.  \n",
    "\n",
    "### Q: Using the methods from Scikit-Learn, play around with the parameters. What is the best result you can get? What feature was the most important?  \n",
    "A: The best accuracy score was 1.0. The most important feature was 'flavanoids'.  \n",
    "\n",
    "### Q: How did your implementation compare in results to the Sklearn methods?  \n",
    "A: My implementation is much slower, but is the same in accuracy."
   ]
  },
  {
   "cell_type": "markdown",
   "metadata": {},
   "source": [
    "# 5. How long did it take?\n",
    "\n",
    "8 hours"
   ]
  }
 ],
 "metadata": {
  "kernelspec": {
   "display_name": "Python 3",
   "language": "python",
   "name": "python3"
  },
  "language_info": {
   "codemirror_mode": {
    "name": "ipython",
    "version": 3
   },
   "file_extension": ".py",
   "mimetype": "text/x-python",
   "name": "python",
   "nbconvert_exporter": "python",
   "pygments_lexer": "ipython3",
   "version": "3.7.6"
  }
 },
 "nbformat": 4,
 "nbformat_minor": 4
}
