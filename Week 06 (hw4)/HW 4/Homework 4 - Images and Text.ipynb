{
 "cells": [
  {
   "cell_type": "markdown",
   "metadata": {},
   "source": [
    "# Training a model to classify images of Pets"
   ]
  },
  {
   "cell_type": "markdown",
   "metadata": {},
   "source": [
    "This first cell loads the images from the cat and dog folders and turn them into arrays. We are only using 300 images per category so everyone can run, but feel free to increase that number if your computer can handle more data. "
   ]
  },
  {
   "cell_type": "code",
   "execution_count": null,
   "metadata": {
    "ExecuteTime": {
     "end_time": "2020-07-13T16:01:19.454704Z",
     "start_time": "2020-07-13T16:01:17.909554Z"
    }
   },
   "outputs": [],
   "source": [
    "from os import listdir\n",
    "from os.path import isfile, join\n",
    "import re\n",
    "import matplotlib.pyplot as plt\n",
    "import numpy as np\n",
    "\n",
    "from keras.preprocessing.image import load_img\n",
    "from keras.preprocessing.image import img_to_array\n",
    "\n",
    "images_to_use = 300 # increase this number if you want to use more data\n",
    "\n",
    "cat_path = './cat' # edit with the path to the folder with your cat data\n",
    "dog_path = './dog' # edit with the path to the folder with your dog data\n",
    "dog_files = [dog_path + \"/\" + f for f in listdir(dog_path) if isfile(join(dog_path, f))][:images_to_use]\n",
    "cat_files = [cat_path + \"/\" + f for f in listdir(cat_path) if isfile(join(cat_path, f))][:images_to_use]\n",
    "\n",
    "files = dog_files + cat_files\n",
    "\n",
    "X = []\n",
    "y = []\n",
    "\n",
    "\n",
    "for file in files:\n",
    "    label = file.split('/')[1] # gets the folder name\n",
    "    y.append(label)\n",
    "    img = load_img(file, target_size=(224, 224))\n",
    "    img = img_to_array(img)\n",
    "    X.append(img)"
   ]
  },
  {
   "cell_type": "markdown",
   "metadata": {},
   "source": [
    "The following cell splits your data into train, validation and test. It performs transformations to turn a colored image, which has 3 values per pixel in the RGB color model (https://en.wikipedia.org/wiki/RGB_color_model), into a matrix of single values that combine the 3 RGB values."
   ]
  },
  {
   "cell_type": "code",
   "execution_count": 13,
   "metadata": {
    "ExecuteTime": {
     "end_time": "2020-07-14T04:58:40.718566Z",
     "start_time": "2020-07-14T04:58:39.196862Z"
    }
   },
   "outputs": [
    {
     "ename": "NameError",
     "evalue": "name 'X' is not defined",
     "output_type": "error",
     "traceback": [
      "\u001b[0;31m---------------------------\u001b[0m",
      "\u001b[0;31mNameError\u001b[0mTraceback (most recent call last)",
      "\u001b[0;32m<ipython-input-13-28b9ce627a2d>\u001b[0m in \u001b[0;36m<module>\u001b[0;34m\u001b[0m\n\u001b[1;32m     23\u001b[0m     \u001b[0;32mreturn\u001b[0m \u001b[0mX_train\u001b[0m\u001b[0;34m,\u001b[0m \u001b[0my_train\u001b[0m\u001b[0;34m,\u001b[0m \u001b[0mX_test\u001b[0m\u001b[0;34m,\u001b[0m \u001b[0my_test\u001b[0m\u001b[0;34m,\u001b[0m \u001b[0mX_val\u001b[0m\u001b[0;34m,\u001b[0m \u001b[0my_val\u001b[0m\u001b[0;34m\u001b[0m\u001b[0;34m\u001b[0m\u001b[0m\n\u001b[1;32m     24\u001b[0m \u001b[0;34m\u001b[0m\u001b[0m\n\u001b[0;32m---> 25\u001b[0;31m \u001b[0mX_train\u001b[0m\u001b[0;34m,\u001b[0m \u001b[0my_train\u001b[0m\u001b[0;34m,\u001b[0m \u001b[0mX_test\u001b[0m\u001b[0;34m,\u001b[0m \u001b[0my_test\u001b[0m\u001b[0;34m,\u001b[0m \u001b[0mX_val\u001b[0m\u001b[0;34m,\u001b[0m \u001b[0my_val\u001b[0m \u001b[0;34m=\u001b[0m \u001b[0mget_train_val_test\u001b[0m\u001b[0;34m(\u001b[0m\u001b[0mX\u001b[0m\u001b[0;34m,\u001b[0m \u001b[0my\u001b[0m\u001b[0;34m,\u001b[0m \u001b[0msplit\u001b[0m\u001b[0;34m=\u001b[0m\u001b[0;36m0.2\u001b[0m\u001b[0;34m)\u001b[0m\u001b[0;34m\u001b[0m\u001b[0;34m\u001b[0m\u001b[0m\n\u001b[0m\u001b[1;32m     26\u001b[0m \u001b[0;34m\u001b[0m\u001b[0m\n\u001b[1;32m     27\u001b[0m \u001b[0mX_train_gray\u001b[0m \u001b[0;34m=\u001b[0m \u001b[0mtransform_to_gray_features\u001b[0m\u001b[0;34m(\u001b[0m\u001b[0mX_train\u001b[0m\u001b[0;34m)\u001b[0m\u001b[0;34m\u001b[0m\u001b[0;34m\u001b[0m\u001b[0m\n",
      "\u001b[0;31mNameError\u001b[0m: name 'X' is not defined"
     ]
    }
   ],
   "source": [
    "from matplotlib import pyplot\n",
    "\n",
    "from sklearn.model_selection import train_test_split\n",
    "\n",
    "def flatten_X(X):\n",
    "    return np.vstack([arr.flatten() for arr in X])\n",
    "\n",
    "def rgb2gray(rgb):\n",
    "    # this converts the RGB colors to gray, so you have only one value per pixel\n",
    "    return np.dot(rgb[...,:3], [0.2989, 0.5870, 0.1140]) \n",
    "\n",
    "def transform_to_gray_features(X):\n",
    "    gray_features = []\n",
    "    for instance in X:\n",
    "        X_gray = rgb2gray(instance)\n",
    "        flattened_X_gray = X_gray.flatten()\n",
    "        gray_features.append(flattened_X_gray)\n",
    "    return np.vstack(gray_features)\n",
    "\n",
    "def get_train_val_test(X, y, split=0.2):\n",
    "    X_train, X_test, y_train, y_test = train_test_split(X, y, test_size=split, random_state=42)\n",
    "    X_val, X_test, y_val, y_test = train_test_split(X_test, y_test, test_size=0.5, random_state=42)\n",
    "    return X_train, y_train, X_test, y_test, X_val, y_val\n",
    "\n",
    "X_train, y_train, X_test, y_test, X_val, y_val = get_train_val_test(X, y, split=0.2)\n",
    "\n",
    "X_train_gray = transform_to_gray_features(X_train)\n",
    "X_test_gray = transform_to_gray_features(X_test)\n",
    "X_val_gray = transform_to_gray_features(X_val)\n",
    "\n",
    "\n",
    "\n",
    "# plot first few images with the gray transform\n",
    "for i in range(9):\n",
    "    # define subplot\n",
    "    pyplot.subplot(330 + 1 + i)\n",
    "    # define filename\n",
    "    \n",
    "    # plot raw pixel data\n",
    "    pyplot.imshow(rgb2gray(X_train[i]))\n",
    "# show the figure\n",
    "pyplot.show()"
   ]
  },
  {
   "cell_type": "markdown",
   "metadata": {
    "ExecuteTime": {
     "end_time": "2020-07-13T16:25:51.795690Z",
     "start_time": "2020-07-13T16:25:48.580330Z"
    }
   },
   "source": [
    "## Exercise 1: Train a model using the gray scaled features\n",
    "\n",
    "For this exercise, you will import any model that you have worked with before, either from scikit-learn or any other library, and you will train it on the training set. You can test different hyperparameters using the validation set.\n"
   ]
  },
  {
   "cell_type": "code",
   "execution_count": null,
   "metadata": {
    "ExecuteTime": {
     "end_time": "2020-07-13T16:29:02.821621Z",
     "start_time": "2020-07-13T16:29:02.818654Z"
    }
   },
   "outputs": [],
   "source": [
    "# Add code here to train a model on the training data."
   ]
  },
  {
   "cell_type": "markdown",
   "metadata": {},
   "source": [
    "Now, use the classification report function from sklearn to show evaluate the results."
   ]
  },
  {
   "cell_type": "code",
   "execution_count": null,
   "metadata": {
    "ExecuteTime": {
     "end_time": "2020-07-13T16:30:14.963445Z",
     "start_time": "2020-07-13T16:30:14.960994Z"
    }
   },
   "outputs": [],
   "source": [
    "from sklearn.metrics import classification_report\n"
   ]
  },
  {
   "cell_type": "markdown",
   "metadata": {},
   "source": [
    "## Using Pre-trained models to extract features"
   ]
  },
  {
   "cell_type": "markdown",
   "metadata": {},
   "source": [
    "In the cell below, we import the VGG16 model. We also have commented out the commands to use other existing pre-trained models from Keras."
   ]
  },
  {
   "cell_type": "code",
   "execution_count": null,
   "metadata": {
    "ExecuteTime": {
     "end_time": "2020-07-13T16:32:00.667881Z",
     "start_time": "2020-07-13T16:31:56.605589Z"
    }
   },
   "outputs": [],
   "source": [
    "from keras.applications.vgg16 import VGG16\n",
    "# from keras.applications import ResNet50\n",
    "# from keras.applications import InceptionV3\n",
    "# from keras.applications import Xception # TensorFlow ONLY\n",
    "# from keras.applications import VGG16\n",
    "# from keras.applications import VGG19\n",
    "\n",
    "\n",
    "model = VGG16(weights='imagenet', include_top=False,input_shape=(224, 224, 3))\n",
    "model.summary()"
   ]
  },
  {
   "cell_type": "markdown",
   "metadata": {},
   "source": [
    "We run code to extract the features using the pre-trained model. Because we pass the flag `include_top=False` when loading the model, we get the vector of the last layer of the model before going through the Softmax function, instead of the model predictions. This vector should contain information about what is in the image."
   ]
  },
  {
   "cell_type": "code",
   "execution_count": null,
   "metadata": {
    "ExecuteTime": {
     "end_time": "2020-07-13T16:32:04.971181Z",
     "start_time": "2020-07-13T16:32:04.966988Z"
    }
   },
   "outputs": [],
   "source": [
    "def extract_features_from_images(images):\n",
    "    # Receives an array of images and transform it into an array of features from DL models\n",
    "    features = []\n",
    "    \n",
    "    for img in images:\n",
    "        img_proper_shape = np.expand_dims(img, axis=0) # adds another axis required by DL models \n",
    "        extracted_features = model.predict(img_proper_shape)\n",
    "        flattened_features = extracted_features.flatten() # We make a single 1D array to represent the features\n",
    "        features.append(flattened_features)\n",
    "        \n",
    "    return np.vstack(features)"
   ]
  },
  {
   "cell_type": "code",
   "execution_count": null,
   "metadata": {
    "ExecuteTime": {
     "end_time": "2020-07-13T16:32:40.251943Z",
     "start_time": "2020-07-13T16:32:05.525981Z"
    }
   },
   "outputs": [],
   "source": [
    "X_train_features = extract_features_from_images(X_train)"
   ]
  },
  {
   "cell_type": "code",
   "execution_count": null,
   "metadata": {
    "ExecuteTime": {
     "end_time": "2020-07-13T16:32:49.286780Z",
     "start_time": "2020-07-13T16:32:40.254220Z"
    }
   },
   "outputs": [],
   "source": [
    "X_test_features = extract_features_from_images(X_test)\n",
    "X_val_features = extract_features_from_images(X_val)"
   ]
  },
  {
   "cell_type": "markdown",
   "metadata": {},
   "source": [
    "## Exercise 2: Using the features extracted from pre-trained models"
   ]
  },
  {
   "cell_type": "markdown",
   "metadata": {},
   "source": [
    "Now, use the same model you have used for exercise 1, but now train it on X_train_features, the features extracted using the Deep Learning models. You can test different hyperparameters using the validation set."
   ]
  },
  {
   "cell_type": "code",
   "execution_count": null,
   "metadata": {
    "ExecuteTime": {
     "end_time": "2020-07-13T16:38:19.044350Z",
     "start_time": "2020-07-13T16:38:19.041848Z"
    }
   },
   "outputs": [],
   "source": [
    "# Add code to train a model on the features extracted using the Deep Learning model"
   ]
  },
  {
   "cell_type": "markdown",
   "metadata": {},
   "source": [
    "Print the classification report results on the test set below."
   ]
  },
  {
   "cell_type": "code",
   "execution_count": null,
   "metadata": {
    "ExecuteTime": {
     "end_time": "2020-07-13T16:39:28.715514Z",
     "start_time": "2020-07-13T16:39:28.713101Z"
    }
   },
   "outputs": [],
   "source": [
    "# Print the results from the classification report"
   ]
  },
  {
   "cell_type": "markdown",
   "metadata": {},
   "source": [
    "## Bonus: Comparing different DL models"
   ]
  },
  {
   "cell_type": "markdown",
   "metadata": {},
   "source": [
    "For Bonus points, try using different DL models to extract features. You can achieve that by changing the `model = VGG16(weights='imagenet', include_top=False,input_shape=(224, 224, 3))` line of the code to use one of the other models from keras. ie. `model = ResNet50(weights='imagenet', include_top=False,input_shape=(224, 224, 3))`. Don't forget you need to import the models by removing the comments in that cell. Compare at least 3 models and report the results."
   ]
  },
  {
   "cell_type": "code",
   "execution_count": null,
   "metadata": {
    "ExecuteTime": {
     "end_time": "2020-07-14T04:26:10.905943Z",
     "start_time": "2020-07-14T04:26:10.857325Z"
    }
   },
   "outputs": [],
   "source": [
    "# Add code to compare the models here. This is an optional assignment."
   ]
  },
  {
   "cell_type": "markdown",
   "metadata": {},
   "source": [
    "# Training a model for Sentiment Analysis"
   ]
  },
  {
   "cell_type": "markdown",
   "metadata": {},
   "source": [
    "For the second part of this homework, we will be training a Natural Language Processing model to make predictions on two datasets: Tweets and Reddit comments. We will be using the data downloaded from Canvas. The cell below loads the data and splits it into train, validation and test."
   ]
  },
  {
   "cell_type": "code",
   "execution_count": 70,
   "metadata": {
    "ExecuteTime": {
     "end_time": "2020-07-14T06:02:07.817064Z",
     "start_time": "2020-07-14T06:02:07.363691Z"
    }
   },
   "outputs": [],
   "source": [
    "import pandas as pd\n",
    "\n",
    "twitter_df = pd.read_csv('Twitter_Data.csv').dropna()\n",
    "reddit_df = pd.read_csv('Reddit_Data.csv').dropna()\n",
    "\n",
    "X_twitter = twitter_df['clean_text']\n",
    "y_twitter = twitter_df['category'] + 1 # We sum 1 so the categories are not negative. Now Negative is 0, Neutral is 1 and Positive is 2\n",
    "\n",
    "X_reddit = reddit_df['clean_comment']\n",
    "y_reddit = reddit_df['category'] + 1\n"
   ]
  },
  {
   "cell_type": "code",
   "execution_count": 71,
   "metadata": {
    "ExecuteTime": {
     "end_time": "2020-07-14T06:02:08.443967Z",
     "start_time": "2020-07-14T06:02:08.384208Z"
    }
   },
   "outputs": [],
   "source": [
    "X_train_tweet, y_train_tweet, X_test_tweet, y_test_tweet, X_val_tweet, y_val_tweet = get_train_val_test(X_twitter, y_twitter, split=0.2)"
   ]
  },
  {
   "cell_type": "code",
   "execution_count": 72,
   "metadata": {
    "ExecuteTime": {
     "end_time": "2020-07-14T06:02:08.691592Z",
     "start_time": "2020-07-14T06:02:08.676373Z"
    }
   },
   "outputs": [],
   "source": [
    "X_train_reddit, y_train_reddit, X_test_reddit, y_test_reddit, X_val_reddit, y_val_reddit = get_train_val_test(X_reddit, y_reddit, split=0.2)"
   ]
  },
  {
   "cell_type": "markdown",
   "metadata": {},
   "source": [
    "## Exercise 3: Using count-based methods to represent text documents.\n",
    "\n",
    "Using what was you learned in class, train two models per dataset. The first one will be using [CountVectorizer](https://scikit-learn.org/stable/modules/generated/sklearn.feature_extraction.text.CountVectorizer.html) and the second one will be using the [TF-IDF Vectorizer](https://scikit-learn.org/stable/modules/generated/sklearn.feature_extraction.text.TfidfVectorizer.html#sklearn.feature_extraction.text.TfidfVectorizer). You can use any model you want, but you should report the results using both feature vectors.\n",
    "\n",
    "Report the values for the two models trained on Twitter and the two models trained on Reddit."
   ]
  },
  {
   "cell_type": "code",
   "execution_count": 73,
   "metadata": {
    "ExecuteTime": {
     "end_time": "2020-07-14T06:02:09.226574Z",
     "start_time": "2020-07-14T06:02:09.224115Z"
    }
   },
   "outputs": [],
   "source": [
    "# Add code here to train the two models and report the results."
   ]
  },
  {
   "cell_type": "markdown",
   "metadata": {},
   "source": [
    "## Deep Learning and Word Embeddings\n",
    "\n"
   ]
  },
  {
   "cell_type": "markdown",
   "metadata": {},
   "source": [
    "We will now use an LSTM to make predictions on the data. We will first compute the Vocabulary size for the two datasets."
   ]
  },
  {
   "cell_type": "code",
   "execution_count": 74,
   "metadata": {
    "ExecuteTime": {
     "end_time": "2020-07-14T06:02:10.592691Z",
     "start_time": "2020-07-14T06:02:09.798348Z"
    }
   },
   "outputs": [
    {
     "name": "stdout",
     "output_type": "stream",
     "text": [
      "Twitter' Vocabulary size is 97988 and Reddit's Vocabulary size is 48143\n"
     ]
    }
   ],
   "source": [
    "twitter_vocabulary_size = len(set([tok for s in X_train_tweet.values.tolist() for tok in s.split()]))\n",
    "reddit_vocabulary_size = len(set([tok for s in X_train_reddit.values.tolist() for tok in s.split()]))\n",
    "\n",
    "print(f\"Twitter' Vocabulary size is {twitter_vocabulary_size} and Reddit's Vocabulary size is {reddit_vocabulary_size}\")"
   ]
  },
  {
   "cell_type": "markdown",
   "metadata": {},
   "source": [
    "Now we preprocess the data. To use it on Keras, we first need to change the words to numeric values. We also need to make all the sentences to be the same size for the matrix computations. To do that, we select a length to the text. \n",
    "\n",
    "If the text is shorter than the length, we pad it with zeros until it is has the correct size. The model will learn that zeros mean padding and will ignore it. \n",
    "\n",
    "If the text is longer than the length, we just discard the extra words."
   ]
  },
  {
   "cell_type": "code",
   "execution_count": 75,
   "metadata": {
    "ExecuteTime": {
     "end_time": "2020-07-14T06:02:15.535523Z",
     "start_time": "2020-07-14T06:02:10.596006Z"
    }
   },
   "outputs": [],
   "source": [
    "from keras.preprocessing.text import one_hot\n",
    "from keras.preprocessing import sequence\n",
    "\n",
    "OOV_BUCKETS = 10\n",
    "TEXT_LENGTH = 100\n",
    "# Creates sequences for twitter_data\n",
    "def converts_text_to_padded_sequences(X, vocabulary_size, oov=OOV_BUCKETS, max_review_length=TEXT_LENGTH):\n",
    "    number_sequences =  [one_hot(sentence, vocabulary_size + oov ) for sentence in X.values.tolist()]\n",
    "    padded_sequences = sequence.pad_sequences(number_sequences, maxlen=max_review_length)\n",
    "\n",
    "    return padded_sequences\n",
    "\n",
    "twitter_train_dl = converts_text_to_padded_sequences(X_train_tweet, twitter_vocabulary_size)\n",
    "twitter_test_dl = converts_text_to_padded_sequences(X_test_tweet, twitter_vocabulary_size)\n",
    "twitter_val_dl = converts_text_to_padded_sequences(X_val_tweet, twitter_vocabulary_size)\n",
    "\n",
    "\n",
    "reddit_train_dl = converts_text_to_padded_sequences(X_train_reddit, reddit_vocabulary_size)\n",
    "reddit_test_dl = converts_text_to_padded_sequences(X_test_reddit, reddit_vocabulary_size)\n",
    "reddit_val_dl = converts_text_to_padded_sequences(X_val_reddit, reddit_vocabulary_size)"
   ]
  },
  {
   "cell_type": "markdown",
   "metadata": {},
   "source": [
    "Now that we have all the train, validation and test splits for the two datasets, we will start by training a sentiment analysis model on Reddit data. The code below will train a one layer LSTM on the Reddit data. It will create n embeddings, being n the vocabulary size. It means that each word will have their own embedding and the model will learnr how to represent the words as it learns to perfom the task."
   ]
  },
  {
   "cell_type": "code",
   "execution_count": 84,
   "metadata": {
    "ExecuteTime": {
     "end_time": "2020-07-14T14:49:30.576364Z",
     "start_time": "2020-07-14T14:43:08.730927Z"
    }
   },
   "outputs": [
    {
     "name": "stdout",
     "output_type": "stream",
     "text": [
      "_________________________________________________________________\n",
      "Layer (type)                 Output Shape              Param #   \n",
      "=================================================================\n",
      "embedding_13 (Embedding)     (None, 100, 32)           1540896   \n",
      "_________________________________________________________________\n",
      "lstm_13 (LSTM)               (None, 100)               53200     \n",
      "_________________________________________________________________\n",
      "dense_13 (Dense)             (None, 3)                 303       \n",
      "=================================================================\n",
      "Total params: 1,594,399\n",
      "Trainable params: 1,594,399\n",
      "Non-trainable params: 0\n",
      "_________________________________________________________________\n",
      "None\n",
      "Train on 29719 samples, validate on 3715 samples\n",
      "Epoch 1/20\n",
      "29696/29719 [============================>.] - ETA: 0s - loss: 0.6971 - acc: 0.6972Epoch 00000: val_loss improved from inf to 0.43460, saving model to best_weights_reddit.hdf5\n",
      "29719/29719 [==============================] - 78s - loss: 0.6972 - acc: 0.6972 - val_loss: 0.4346 - val_acc: 0.8455\n",
      "Epoch 2/20\n",
      "29696/29719 [============================>.] - ETA: 0s - loss: 0.2807 - acc: 0.9037Epoch 00001: val_loss improved from 0.43460 to 0.34710, saving model to best_weights_reddit.hdf5\n",
      "29719/29719 [==============================] - 76s - loss: 0.2808 - acc: 0.9037 - val_loss: 0.3471 - val_acc: 0.8824\n",
      "Epoch 3/20\n",
      "29696/29719 [============================>.] - ETA: 0s - loss: 0.1690 - acc: 0.9477Epoch 00002: val_loss did not improve\n",
      "29719/29719 [==============================] - 74s - loss: 0.1690 - acc: 0.9477 - val_loss: 0.3870 - val_acc: 0.8754\n",
      "Epoch 4/20\n",
      "29696/29719 [============================>.] - ETA: 0s - loss: 0.1155 - acc: 0.9668Epoch 00003: val_loss did not improve\n",
      "29719/29719 [==============================] - 76s - loss: 0.1155 - acc: 0.9668 - val_loss: 0.4260 - val_acc: 0.8678\n",
      "Epoch 5/20\n",
      "29696/29719 [============================>.] - ETA: 0s - loss: 0.0919 - acc: 0.9741Epoch 00004: val_loss did not improve\n",
      "29719/29719 [==============================] - 74s - loss: 0.0919 - acc: 0.9740 - val_loss: 0.4847 - val_acc: 0.8692\n"
     ]
    }
   ],
   "source": [
    "import numpy\n",
    "import keras\n",
    "from keras.models import Sequential\n",
    "from keras.layers import Dense\n",
    "from keras.layers import LSTM\n",
    "from keras.layers.embeddings import Embedding\n",
    "from keras.preprocessing import sequence\n",
    "# fix random seed for reproducibility\n",
    "numpy.random.seed(7)\n",
    "# load the dataset but only keep the top n words, zero the rest\n",
    "\n",
    "my_callbacks = [\n",
    "    keras.callbacks.EarlyStopping(patience=2),\n",
    "    keras.callbacks.ModelCheckpoint(filepath=\"best_weights_reddit.hdf5\", verbose=1, save_best_only=True),\n",
    "]\n",
    "\n",
    "\n",
    "def train_model(X_train, y_train, X_val, y_val, embedding_size, vocabulary_size, text_length, epochs, batch_size):\n",
    "    model = Sequential()\n",
    "    model.add(Embedding(vocabulary_size, embedding_size, input_length=text_length)) # We create embeddings for each word in our vocabulary\n",
    "    model.add(LSTM(100)) # one layer of LSTM with 100 hidden units\n",
    "    model.add(Dense(3, activation='softmax')) # Output softmax for the 3 classes, Negative, Neutral and Positive\n",
    "    model.compile(loss='sparse_categorical_crossentropy', optimizer='adam', metrics=['accuracy'])\n",
    "    print(model.summary())\n",
    "    history = model.fit(X_train, y_train, epochs=epochs, batch_size=batch_size, validation_data=(X_val, y_val), callbacks=my_callbacks)\n",
    "    \n",
    "    return model, history\n",
    "  \n",
    "# We train a model by passing the reddit data and parrameters related to reddit.\n",
    "reddit_model, reddit_history = train_model(reddit_train_dl, y_train_reddit, reddit_val_dl, y_val_reddit, \n",
    "                             embedding_size=32, vocabulary_size=reddit_vocabulary_size+OOV_BUCKETS, \n",
    "                             text_length= TEXT_LENGTH, epochs=20, batch_size=64)\n",
    "\n",
    "\n",
    "\n",
    "reddit_model.load_weights('best_weights_reddit.hdf5')"
   ]
  },
  {
   "cell_type": "code",
   "execution_count": 85,
   "metadata": {
    "ExecuteTime": {
     "end_time": "2020-07-14T14:49:30.583477Z",
     "start_time": "2020-07-14T14:49:30.579243Z"
    }
   },
   "outputs": [],
   "source": [
    "import matplotlib.pyplot as plt\n",
    "\n",
    "def plot_history(history):\n",
    "    pd.DataFrame(history.history)[['loss', 'val_loss']].plot()\n",
    "    plt.grid(True)\n",
    "    plt.show()"
   ]
  },
  {
   "cell_type": "code",
   "execution_count": 86,
   "metadata": {
    "ExecuteTime": {
     "end_time": "2020-07-14T14:49:30.778429Z",
     "start_time": "2020-07-14T14:49:30.585582Z"
    }
   },
   "outputs": [
    {
     "data": {
      "image/png": "[encoded data removed]",
      "text/plain": [
       "<Figure size 432x288 with 1 Axes>"
      ]
     },
     "metadata": {
      "needs_background": "light"
     },
     "output_type": "display_data"
    }
   ],
   "source": [
    "plot_history(reddit_history)"
   ]
  },
  {
   "cell_type": "code",
   "execution_count": null,
   "metadata": {},
   "outputs": [],
   "source": []
  },
  {
   "cell_type": "markdown",
   "metadata": {
    "ExecuteTime": {
     "end_time": "2020-07-14T05:09:07.369060Z",
     "start_time": "2020-07-14T05:09:07.333054Z"
    }
   },
   "source": [
    "## Exercise 4: Train a sentiment analysis model on Twitter data\n",
    "\n",
    "Now you will change the previous code to train a model on the Twitter data. You will tune the parameters using the Validation set results."
   ]
  },
  {
   "cell_type": "code",
   "execution_count": null,
   "metadata": {
    "ExecuteTime": {
     "end_time": "2020-07-14T05:50:11.570316Z",
     "start_time": "2020-07-14T05:50:11.565107Z"
    }
   },
   "outputs": [],
   "source": [
    "#Add code here to train a model using the Twitter data. Add more cells if necessary"
   ]
  },
  {
   "cell_type": "markdown",
   "metadata": {
    "ExecuteTime": {
     "end_time": "2020-07-14T05:50:24.107314Z",
     "start_time": "2020-07-14T05:50:24.102961Z"
    }
   },
   "source": [
    "## Exercise 5: Compare the models\n",
    "\n",
    "For this last exercise, you will compare all your models. You will make predictions on Twitter using your CountVectorizer, TFIDFVectorizer, and LSTM models and report the results using the classification report. You will do the same for the Reddit data."
   ]
  },
  {
   "cell_type": "code",
   "execution_count": null,
   "metadata": {
    "ExecuteTime": {
     "end_time": "2020-07-14T05:50:46.866732Z",
     "start_time": "2020-07-14T05:50:46.862401Z"
    }
   },
   "outputs": [],
   "source": []
  },
  {
   "cell_type": "code",
   "execution_count": null,
   "metadata": {},
   "outputs": [],
   "source": []
  }
 ],
 "metadata": {
  "kernelspec": {
   "display_name": "Python 3",
   "language": "python",
   "name": "python3"
  },
  "language_info": {
   "codemirror_mode": {
    "name": "ipython",
    "version": 3
   },
   "file_extension": ".py",
   "mimetype": "text/x-python",
   "name": "python",
   "nbconvert_exporter": "python",
   "pygments_lexer": "ipython3",
   "version": "3.6.7"
  }
 },
 "nbformat": 4,
 "nbformat_minor": 2
}
