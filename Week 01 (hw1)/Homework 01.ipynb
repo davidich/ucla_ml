{
 "cells": [
  {
   "cell_type": "markdown",
   "metadata": {
    "ExecuteTime": {
     "end_time": "2020-05-24T17:41:21.538715Z",
     "start_time": "2020-05-24T17:41:21.535877Z"
    }
   },
   "source": [
    "# Homework 1\n",
    "\n",
    "\n",
    "This class will be taught in Python and will use some of the most common libraries available for machine learning and data science. This homework's goal is to make sure you have the necessary background to succeed in this class and to confirm all the essential libraries are installed. Please answer the proposed questions in a separate document and attach a PDF version to your zip folder before submitting.\n",
    "\n",
    "Please note how long (ie 2 hours) you took to finish this assignment as it will be asked at the end of the notebook. This is important to measure how difficult the homeworks are."
   ]
  },
  {
   "cell_type": "markdown",
   "metadata": {
    "ExecuteTime": {
     "end_time": "2020-05-24T17:38:18.865957Z",
     "start_time": "2020-05-24T17:38:18.793787Z"
    }
   },
   "source": [
    "## Exercise 1 - Python \n",
    "\n",
    "We initialize a list with 1000 random numbers below. Implement the following functions using python (do not use any library for this part of the exercise, you should implement from scratch)."
   ]
  },
  {
   "cell_type": "code",
   "execution_count": 1,
   "metadata": {
    "ExecuteTime": {
     "end_time": "2020-05-30T22:43:39.261113Z",
     "start_time": "2020-05-30T22:43:39.256336Z"
    }
   },
   "outputs": [],
   "source": [
    "from random import randrange, seed\n",
    "from typing import *\n",
    "seed(0) # we define a fixed seed so we can replicate our experiments\n",
    "random_numbers = [randrange(10) for _ in range(1000)] # we generate 1000 random integers ranging from 0 to 9"
   ]
  },
  {
   "cell_type": "code",
   "execution_count": 2,
   "metadata": {
    "ExecuteTime": {
     "end_time": "2020-05-30T22:43:39.417411Z",
     "start_time": "2020-05-30T22:43:39.412615Z"
    },
    "scrolled": true
   },
   "outputs": [],
   "source": [
    "# Complete the following functions\n",
    "def compute_most_frequent(numbers_list:List, top_k:int=3) -> Dict:\n",
    "    # K is the size of the dictionary you need to return. Keys should be the integers and values should be the counts\n",
    "    \n",
    "    counter = {}\n",
    "    for v in numbers_list:\n",
    "        if v in counter:\n",
    "            counter[v] += 1\n",
    "        else:\n",
    "            counter[v] = 1\n",
    "    sd = sorted(counter.items(), key= lambda kv: kv[1], reverse = True)\n",
    "    return dict(sd[:top_k])\n",
    "\n",
    "def compute_mean(numbers_list:List) -> float:\n",
    "    return sum(numbers_list) / len(numbers_list)\n",
    "\n",
    "def compute_median(numbers_list:List) -> float:\n",
    "    sorted_list = sorted(numbers_list)\n",
    "    n = len(numbers_list)\n",
    "    if n % 2 == 0:\n",
    "        return (sorted_list[n // 2 - 1] + sorted_list[n // 2]) / 2\n",
    "    else:\n",
    "        return sorted_list[n // 2 + 1]\n",
    "\n",
    "def compute_standard_deviation(number_list:List) -> float:\n",
    "    mean = compute_mean(number_list)\n",
    "    sq_sum = sum((s - mean) ** 2 for s in number_list)\n",
    "    return math.sqrt(sq_sum / len(number_list))\n",
    "\n",
    "def generate_histogram_list(numbers_list:List)->List:\n",
    "    counter = {}\n",
    "    for v in numbers_list:\n",
    "        if v in counter:\n",
    "            counter[v] += 1\n",
    "        else:\n",
    "            counter[v] = 1\n",
    "    sd = sorted(counter.items(), key= lambda kv: kv[0])\n",
    "    return list(dict(sd).values())"
   ]
  },
  {
   "cell_type": "markdown",
   "metadata": {
    "ExecuteTime": {
     "end_time": "2020-05-30T22:25:53.557289Z",
     "start_time": "2020-05-30T22:25:53.552590Z"
    }
   },
   "source": [
    "Now, using any library you want (ie. Numpy, Sklearn, collections), implement the same functions. They should pass the tests below."
   ]
  },
  {
   "cell_type": "code",
   "execution_count": 8,
   "metadata": {
    "ExecuteTime": {
     "end_time": "2020-05-30T22:45:03.793469Z",
     "start_time": "2020-05-30T22:45:03.790368Z"
    }
   },
   "outputs": [],
   "source": [
    "# import the required libraries here\n",
    "import collections\n",
    "import math\n",
    "import numpy as np"
   ]
  },
  {
   "cell_type": "code",
   "execution_count": 9,
   "metadata": {
    "ExecuteTime": {
     "end_time": "2020-05-30T22:45:26.037062Z",
     "start_time": "2020-05-30T22:45:26.032052Z"
    }
   },
   "outputs": [],
   "source": [
    "# Complete the following functions using imported libraries\n",
    "def compute_most_frequent_using_external_library(numbers_list:List, top_k:int=3) -> Dict:\n",
    "    # K is the size of the dictionary you need to return. Keys should be the integers and values should be the counts\n",
    "    s = collections.Counter(numbers_list).most_common(top_k)\n",
    "    return {k: v for (k,v) in s}\n",
    "\n",
    "def compute_mean_using_external_library(numbers_list:List) -> float:\n",
    "    return np.mean(numbers_list)\n",
    "\n",
    "def compute_median_using_external_library(numbers_list:List) -> float:\n",
    "    return np.median(numbers_list)\n",
    "\n",
    "def compute_standard_deviation_using_external_library(numbers_list:List) -> float:\n",
    "    return np.std(numbers_list)\n",
    "\n",
    "def generate_histogram_list_using_external_library(numbers_list:List)->List:\n",
    "    hist, bin_edges = np.histogram(numbers_list, range(max(numbers_list)+2))\n",
    "    return list(hist)"
   ]
  },
  {
   "cell_type": "code",
   "execution_count": 10,
   "metadata": {
    "ExecuteTime": {
     "end_time": "2020-05-30T22:45:28.452872Z",
     "start_time": "2020-05-30T22:45:28.448921Z"
    }
   },
   "outputs": [],
   "source": [
    "# Sanity check tests:\n",
    "assert compute_most_frequent(random_numbers, top_k=5) == compute_most_frequent_using_external_library(random_numbers, top_k=5)\n",
    "assert compute_mean(random_numbers) == compute_mean_using_external_library(random_numbers)\n",
    "assert compute_median(random_numbers) == compute_median_using_external_library(random_numbers)\n",
    "assert compute_standard_deviation(random_numbers) == compute_standard_deviation_using_external_library(random_numbers)\n",
    "assert generate_histogram_list(random_numbers) == generate_histogram_list_using_external_library(random_numbers)"
   ]
  },
  {
   "cell_type": "markdown",
   "metadata": {
    "ExecuteTime": {
     "end_time": "2020-05-30T22:49:28.411824Z",
     "start_time": "2020-05-30T22:49:28.170117Z"
    }
   },
   "source": [
    "## Exercise 2 - Visualization\n",
    "\n",
    "Using the output from your `compute_most_frequent` function, use Matplotlib and/or seaborn to generate 3 different plots (ie.histogram)."
   ]
  },
  {
   "cell_type": "code",
   "execution_count": 3,
   "metadata": {
    "ExecuteTime": {
     "end_time": "2020-05-30T22:46:52.084697Z",
     "start_time": "2020-05-30T22:46:51.982858Z"
    }
   },
   "outputs": [],
   "source": [
    "# import the necessary libraries here\n",
    "from matplotlib import pyplot as plt"
   ]
  },
  {
   "cell_type": "code",
   "execution_count": 5,
   "metadata": {
    "ExecuteTime": {
     "end_time": "2020-05-30T22:48:00.027008Z",
     "start_time": "2020-05-30T22:48:00.023021Z"
    }
   },
   "outputs": [
    {
     "data": {
      "image/png": "[encoded data removed]",
      "text/plain": [
       "<Figure size 576x288 with 3 Axes>"
      ]
     },
     "metadata": {
      "needs_background": "light"
     },
     "output_type": "display_data"
    }
   ],
   "source": [
    "import numpy as np\n",
    "from matplotlib import colors\n",
    "from matplotlib.ticker import PercentFormatter\n",
    "\n",
    "axs[0].set_title(\"Histogram\")\n",
    "fig, axs = plt.subplots(1, 3, figsize=(8, 4), tight_layout=True)\n",
    "axs[0].bar(range(1, len(data)+1), list(data.values()))\n",
    "\n",
    "data = compute_most_frequent(random_numbers, top_k=10)\n",
    "axs[1].set_title(\"Histogram 2D\")\n",
    "axs[1].hist2d(list(data.values()), list(data.keys()))\n",
    "\n",
    "axs[2].set_title(\"Horizontal bars\")\n",
    "axs[2].barh(range(len(data)), list(data.values()))\n",
    "axs[2].set_yticks(range(len(data)))\n",
    "axs[2].set_yticklabels(list(data.keys()))\n",
    "axs[2].invert_yaxis()"
   ]
  },
  {
   "cell_type": "markdown",
   "metadata": {},
   "source": [
    "### Question 1:\n",
    "What can you tell us about the data and the function used to generate it?"
   ]
  },
  {
   "cell_type": "markdown",
   "metadata": {},
   "source": [
    "### Answer 1:\n",
    "Data is random and equaly distributed."
   ]
  },
  {
   "cell_type": "markdown",
   "metadata": {},
   "source": [
    "## Exercise 3 - Numpy\n",
    "\n",
    "We initialize 3 matrices with random numbers. Complete the code segments"
   ]
  },
  {
   "cell_type": "code",
   "execution_count": 7,
   "metadata": {
    "ExecuteTime": {
     "end_time": "2020-05-30T23:13:10.428737Z",
     "start_time": "2020-05-30T23:13:10.424826Z"
    }
   },
   "outputs": [],
   "source": [
    "import numpy as np\n",
    "np.random.seed(0) # we set numpy's seed so we can reproduce results\n",
    "\n",
    "random_matrix_A = np.random.rand(2,3)\n",
    "random_matrix_B = np.random.rand(3,2)\n",
    "random_matrix_C = np.random.rand(3,6)"
   ]
  },
  {
   "cell_type": "code",
   "execution_count": 13,
   "metadata": {
    "ExecuteTime": {
     "end_time": "2020-05-30T23:14:04.977848Z",
     "start_time": "2020-05-30T23:14:04.975221Z"
    }
   },
   "outputs": [],
   "source": [
    "# Write code below to multiply matrices A and B\n",
    "AB_mult = random_matrix_A.dot(random_matrix_B)\n",
    "\n",
    "# Write code below to multiply matrices A and C\n",
    "AC_mult = random_matrix_A.dot(random_matrix_C)\n",
    "\n",
    "# Write code below to multiply the squares of AB_mult and AC_mult\n",
    "AB_squared_mult_AC_squared = (AB_mult ** 2).dot(AC_mult ** 2)\n",
    "\n",
    "# Compute the transpose of the matrix  AB_squared_mult_AC_squared\n",
    "AB_squared_mult_AC_squared_transpose = AB_squared_mult_AC_squared.T"
   ]
  },
  {
   "cell_type": "markdown",
   "metadata": {
    "ExecuteTime": {
     "end_time": "2020-05-30T23:09:51.099407Z",
     "start_time": "2020-05-30T23:09:51.093970Z"
    }
   },
   "source": [
    "### Question 2:\n",
    "What is the shape of the `AB_squared_mult_AC_squared_transpose` variable?"
   ]
  },
  {
   "cell_type": "markdown",
   "metadata": {},
   "source": [
    "### Answer 2:\n",
    "shape is (2, 2)"
   ]
  },
  {
   "cell_type": "markdown",
   "metadata": {},
   "source": [
    "## Exercise 4 - Pandas and Sklearn"
   ]
  },
  {
   "cell_type": "markdown",
   "metadata": {
    "ExecuteTime": {
     "end_time": "2020-05-31T21:29:42.278325Z",
     "start_time": "2020-05-31T21:29:42.240108Z"
    }
   },
   "source": [
    "Following the methods at https://scikit-learn.org/stable/datasets/index.html, load the Iris dataset into a Pandas dataframe(https://pandas.pydata.org/pandas-docs/stable/reference/api/pandas.DataFrame.html)."
   ]
  },
  {
   "cell_type": "code",
   "execution_count": 1,
   "metadata": {
    "ExecuteTime": {
     "end_time": "2020-06-03T00:09:25.190814Z",
     "start_time": "2020-06-03T00:09:25.188152Z"
    }
   },
   "outputs": [],
   "source": [
    "from sklearn.datasets import load_iris\n",
    "import pandas as pd"
   ]
  },
  {
   "cell_type": "code",
   "execution_count": 2,
   "metadata": {
    "ExecuteTime": {
     "end_time": "2020-06-03T00:16:45.611967Z",
     "start_time": "2020-06-03T00:16:45.602601Z"
    }
   },
   "outputs": [],
   "source": [
    "# load the iris dataset with both features and labels into a Pandas DataFrame\n",
    "iris_bunch = load_iris()\n",
    "iris_dataframe = pd.DataFrame(iris_bunch['data'], columns=iris_bunch['feature_names'])"
   ]
  },
  {
   "cell_type": "markdown",
   "metadata": {},
   "source": [
    "Compute the count, mean, standard deviation, min and max values for all the features. You can use the functions you implemented or use Pandas built-in functions to do it (recommended)."
   ]
  },
  {
   "cell_type": "code",
   "execution_count": 3,
   "metadata": {
    "ExecuteTime": {
     "end_time": "2020-06-03T00:33:56.030312Z",
     "start_time": "2020-06-03T00:33:56.027750Z"
    }
   },
   "outputs": [
    {
     "data": {
      "text/html": [
       "<div>\n",
       "<style scoped>\n",
       "    .dataframe tbody tr th:only-of-type {\n",
       "        vertical-align: middle;\n",
       "    }\n",
       "\n",
       "    .dataframe tbody tr th {\n",
       "        vertical-align: top;\n",
       "    }\n",
       "\n",
       "    .dataframe thead th {\n",
       "        text-align: right;\n",
       "    }\n",
       "</style>\n",
       "<table border=\"1\" class=\"dataframe\">\n",
       "  <thead>\n",
       "    <tr style=\"text-align: right;\">\n",
       "      <th></th>\n",
       "      <th>sepal length (cm)</th>\n",
       "      <th>sepal width (cm)</th>\n",
       "      <th>petal length (cm)</th>\n",
       "      <th>petal width (cm)</th>\n",
       "    </tr>\n",
       "  </thead>\n",
       "  <tbody>\n",
       "    <tr>\n",
       "      <th>count</th>\n",
       "      <td>150.000000</td>\n",
       "      <td>150.000000</td>\n",
       "      <td>150.000000</td>\n",
       "      <td>150.000000</td>\n",
       "    </tr>\n",
       "    <tr>\n",
       "      <th>mean</th>\n",
       "      <td>5.843333</td>\n",
       "      <td>3.057333</td>\n",
       "      <td>3.758000</td>\n",
       "      <td>1.199333</td>\n",
       "    </tr>\n",
       "    <tr>\n",
       "      <th>std</th>\n",
       "      <td>0.828066</td>\n",
       "      <td>0.435866</td>\n",
       "      <td>1.765298</td>\n",
       "      <td>0.762238</td>\n",
       "    </tr>\n",
       "    <tr>\n",
       "      <th>min</th>\n",
       "      <td>4.300000</td>\n",
       "      <td>2.000000</td>\n",
       "      <td>1.000000</td>\n",
       "      <td>0.100000</td>\n",
       "    </tr>\n",
       "    <tr>\n",
       "      <th>25%</th>\n",
       "      <td>5.100000</td>\n",
       "      <td>2.800000</td>\n",
       "      <td>1.600000</td>\n",
       "      <td>0.300000</td>\n",
       "    </tr>\n",
       "    <tr>\n",
       "      <th>50%</th>\n",
       "      <td>5.800000</td>\n",
       "      <td>3.000000</td>\n",
       "      <td>4.350000</td>\n",
       "      <td>1.300000</td>\n",
       "    </tr>\n",
       "    <tr>\n",
       "      <th>75%</th>\n",
       "      <td>6.400000</td>\n",
       "      <td>3.300000</td>\n",
       "      <td>5.100000</td>\n",
       "      <td>1.800000</td>\n",
       "    </tr>\n",
       "    <tr>\n",
       "      <th>max</th>\n",
       "      <td>7.900000</td>\n",
       "      <td>4.400000</td>\n",
       "      <td>6.900000</td>\n",
       "      <td>2.500000</td>\n",
       "    </tr>\n",
       "  </tbody>\n",
       "</table>\n",
       "</div>"
      ],
      "text/plain": [
       "       sepal length (cm)  sepal width (cm)  petal length (cm)  \\\n",
       "count         150.000000        150.000000         150.000000   \n",
       "mean            5.843333          3.057333           3.758000   \n",
       "std             0.828066          0.435866           1.765298   \n",
       "min             4.300000          2.000000           1.000000   \n",
       "25%             5.100000          2.800000           1.600000   \n",
       "50%             5.800000          3.000000           4.350000   \n",
       "75%             6.400000          3.300000           5.100000   \n",
       "max             7.900000          4.400000           6.900000   \n",
       "\n",
       "       petal width (cm)  \n",
       "count        150.000000  \n",
       "mean           1.199333  \n",
       "std            0.762238  \n",
       "min            0.100000  \n",
       "25%            0.300000  \n",
       "50%            1.300000  \n",
       "75%            1.800000  \n",
       "max            2.500000  "
      ]
     },
     "execution_count": 3,
     "metadata": {},
     "output_type": "execute_result"
    }
   ],
   "source": [
    "# Generate and print the statistics for your dataset.\n",
    "iris_dataframe.describe()"
   ]
  },
  {
   "cell_type": "markdown",
   "metadata": {},
   "source": [
    "### Question 3:\n",
    "\n",
    "    a) Which of the features has the largest standard deviation?\n",
    "    b) What is the average sepal width(cm) for the setosa class?"
   ]
  },
  {
   "cell_type": "markdown",
   "metadata": {},
   "source": [
    "### Answer 3:\n",
    "    a) 'petal length' has the largest STD (1.765298)\n",
    "    b) The average sepal width for sentosa class is 3.428 cm"
   ]
  },
  {
   "cell_type": "code",
   "execution_count": 4,
   "metadata": {
    "ExecuteTime": {
     "end_time": "2020-06-03T00:22:27.420021Z",
     "start_time": "2020-06-03T00:22:27.417356Z"
    }
   },
   "outputs": [
    {
     "data": {
      "text/html": [
       "<div>\n",
       "<style scoped>\n",
       "    .dataframe tbody tr th:only-of-type {\n",
       "        vertical-align: middle;\n",
       "    }\n",
       "\n",
       "    .dataframe tbody tr th {\n",
       "        vertical-align: top;\n",
       "    }\n",
       "\n",
       "    .dataframe thead th {\n",
       "        text-align: right;\n",
       "    }\n",
       "</style>\n",
       "<table border=\"1\" class=\"dataframe\">\n",
       "  <thead>\n",
       "    <tr style=\"text-align: right;\">\n",
       "      <th></th>\n",
       "      <th>sepal length (cm)</th>\n",
       "      <th>sepal width (cm)</th>\n",
       "      <th>petal length (cm)</th>\n",
       "      <th>petal width (cm)</th>\n",
       "    </tr>\n",
       "  </thead>\n",
       "  <tbody>\n",
       "    <tr>\n",
       "      <th>count</th>\n",
       "      <td>50.00000</td>\n",
       "      <td>50.000000</td>\n",
       "      <td>50.000000</td>\n",
       "      <td>50.000000</td>\n",
       "    </tr>\n",
       "    <tr>\n",
       "      <th>mean</th>\n",
       "      <td>5.00600</td>\n",
       "      <td>3.428000</td>\n",
       "      <td>1.462000</td>\n",
       "      <td>0.246000</td>\n",
       "    </tr>\n",
       "    <tr>\n",
       "      <th>std</th>\n",
       "      <td>0.35249</td>\n",
       "      <td>0.379064</td>\n",
       "      <td>0.173664</td>\n",
       "      <td>0.105386</td>\n",
       "    </tr>\n",
       "    <tr>\n",
       "      <th>min</th>\n",
       "      <td>4.30000</td>\n",
       "      <td>2.300000</td>\n",
       "      <td>1.000000</td>\n",
       "      <td>0.100000</td>\n",
       "    </tr>\n",
       "    <tr>\n",
       "      <th>25%</th>\n",
       "      <td>4.80000</td>\n",
       "      <td>3.200000</td>\n",
       "      <td>1.400000</td>\n",
       "      <td>0.200000</td>\n",
       "    </tr>\n",
       "    <tr>\n",
       "      <th>50%</th>\n",
       "      <td>5.00000</td>\n",
       "      <td>3.400000</td>\n",
       "      <td>1.500000</td>\n",
       "      <td>0.200000</td>\n",
       "    </tr>\n",
       "    <tr>\n",
       "      <th>75%</th>\n",
       "      <td>5.20000</td>\n",
       "      <td>3.675000</td>\n",
       "      <td>1.575000</td>\n",
       "      <td>0.300000</td>\n",
       "    </tr>\n",
       "    <tr>\n",
       "      <th>max</th>\n",
       "      <td>5.80000</td>\n",
       "      <td>4.400000</td>\n",
       "      <td>1.900000</td>\n",
       "      <td>0.600000</td>\n",
       "    </tr>\n",
       "  </tbody>\n",
       "</table>\n",
       "</div>"
      ],
      "text/plain": [
       "       sepal length (cm)  sepal width (cm)  petal length (cm)  \\\n",
       "count           50.00000         50.000000          50.000000   \n",
       "mean             5.00600          3.428000           1.462000   \n",
       "std              0.35249          0.379064           0.173664   \n",
       "min              4.30000          2.300000           1.000000   \n",
       "25%              4.80000          3.200000           1.400000   \n",
       "50%              5.00000          3.400000           1.500000   \n",
       "75%              5.20000          3.675000           1.575000   \n",
       "max              5.80000          4.400000           1.900000   \n",
       "\n",
       "       petal width (cm)  \n",
       "count         50.000000  \n",
       "mean           0.246000  \n",
       "std            0.105386  \n",
       "min            0.100000  \n",
       "25%            0.200000  \n",
       "50%            0.200000  \n",
       "75%            0.300000  \n",
       "max            0.600000  "
      ]
     },
     "execution_count": 4,
     "metadata": {},
     "output_type": "execute_result"
    }
   ],
   "source": [
    "# Use this area to run any commands you need to answer the questions above.\n",
    "\n",
    "sentosa_index = list(iris_bunch.target_names).index(\"setosa\")\n",
    "sentosa_data = iris_bunch[\"data\"][iris_bunch.target == sentosa_index]\n",
    "sentosa_dataframe = pd.DataFrame(sentosa_data, columns=iris_bunch['feature_names'])\n",
    "sentosa_dataframe.describe()"
   ]
  },
  {
   "cell_type": "markdown",
   "metadata": {},
   "source": [
    "Plot a histogram with the values for petal length (cm) for the virginica"
   ]
  },
  {
   "cell_type": "code",
   "execution_count": 8,
   "metadata": {},
   "outputs": [
    {
     "data": {
      "image/png": "[encoded data removed]",
      "text/plain": [
       "<Figure size 864x648 with 4 Axes>"
      ]
     },
     "metadata": {
      "needs_background": "light"
     },
     "output_type": "display_data"
    }
   ],
   "source": [
    "# Plot a histogram of the feature values\n",
    "df.hist(figsize=(12,9));"
   ]
  },
  {
   "cell_type": "markdown",
   "metadata": {},
   "source": [
    "In the next cells, we will train your first machine learning algorithm.  Do not worry if you do not understand it yet, we will cover it in the future. The goal here is to check if all the libraries are installed correctly and to get you started with Machine Learning.\n",
    "\n",
    "Create a train and test split for the data using sklearn (https://scikit-learn.org/stable/modules/generated/sklearn.model_selection.train_test_split.html) "
   ]
  },
  {
   "cell_type": "code",
   "execution_count": 9,
   "metadata": {
    "ExecuteTime": {
     "end_time": "2020-06-03T00:30:26.072808Z",
     "start_time": "2020-06-03T00:30:26.070575Z"
    }
   },
   "outputs": [],
   "source": [
    "# Create the train and test splits\n",
    "from sklearn.model_selection import train_test_split\n",
    "\n",
    "X = df.values\n",
    "y = iris_bunch['target']\n",
    "X_train, X_test, y_train, y_test = train_test_split(X, y, test_size=0.33, random_state=42)"
   ]
  },
  {
   "cell_type": "markdown",
   "metadata": {},
   "source": [
    "Fit any classification model from sklearn (example:https://scikit-learn.org/stable/auto_examples/linear_model/plot_iris_logistic.html#sphx-glr-auto-examples-linear-model-plot-iris-logistic-py) to the training data."
   ]
  },
  {
   "cell_type": "code",
   "execution_count": 12,
   "metadata": {},
   "outputs": [
    {
     "data": {
      "text/plain": [
       "LogisticRegression(C=1.0, class_weight=None, dual=False, fit_intercept=True,\n",
       "                   intercept_scaling=1, l1_ratio=None, max_iter=10000,\n",
       "                   multi_class='auto', n_jobs=None, penalty='l2',\n",
       "                   random_state=None, solver='lbfgs', tol=0.0001, verbose=0,\n",
       "                   warm_start=False)"
      ]
     },
     "execution_count": 12,
     "metadata": {},
     "output_type": "execute_result"
    }
   ],
   "source": [
    "# Fit the model to your training data\n",
    "from sklearn.linear_model import LogisticRegression\n",
    "\n",
    "lr = LogisticRegression(max_iter=10000)\n",
    "lr.fit(X_train, y_train)"
   ]
  },
  {
   "cell_type": "markdown",
   "metadata": {},
   "source": [
    "Now, generate predictions on your test data and print the classification report (https://scikit-learn.org/stable/modules/generated/sklearn.metrics.classification_report.html) of your results"
   ]
  },
  {
   "cell_type": "code",
   "execution_count": 13,
   "metadata": {
    "ExecuteTime": {
     "end_time": "2020-06-03T00:35:31.779771Z",
     "start_time": "2020-06-03T00:35:31.777977Z"
    }
   },
   "outputs": [
    {
     "name": "stdout",
     "output_type": "stream",
     "text": [
      "              precision    recall  f1-score   support\n",
      "\n",
      "           0       1.00      1.00      1.00        19\n",
      "           1       1.00      1.00      1.00        15\n",
      "           2       1.00      1.00      1.00        16\n",
      "\n",
      "    accuracy                           1.00        50\n",
      "   macro avg       1.00      1.00      1.00        50\n",
      "weighted avg       1.00      1.00      1.00        50\n",
      "\n"
     ]
    }
   ],
   "source": [
    "# generate predictions\n",
    "y_pred = lr.predict(X_test)\n",
    "\n",
    "# print classification report\n",
    "from sklearn.metrics import classification_report\n",
    "print(classification_report(y_test, y_pred))"
   ]
  },
  {
   "cell_type": "markdown",
   "metadata": {},
   "source": [
    "### Question 4:\n",
    "This is the end of this assignment. How long did you take to finish it?"
   ]
  },
  {
   "cell_type": "markdown",
   "metadata": {},
   "source": [
    "### Answer 4:\n",
    "20 hours"
   ]
  }
 ],
 "metadata": {
  "kernelspec": {
   "display_name": "Python 3",
   "language": "python",
   "name": "python3"
  },
  "language_info": {
   "codemirror_mode": {
    "name": "ipython",
    "version": 3
   },
   "file_extension": ".py",
   "mimetype": "text/x-python",
   "name": "python",
   "nbconvert_exporter": "python",
   "pygments_lexer": "ipython3",
   "version": "3.7.6"
  }
 },
 "nbformat": 4,
 "nbformat_minor": 4
}
